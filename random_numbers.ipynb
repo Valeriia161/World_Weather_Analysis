{
 "cells": [
  {
   "cell_type": "code",
   "execution_count": 1,
   "id": "f85bed94",
   "metadata": {},
   "outputs": [],
   "source": [
    "# Import the random module\n",
    "import random"
   ]
  },
  {
   "cell_type": "code",
   "execution_count": 2,
   "id": "79ed2f57",
   "metadata": {},
   "outputs": [
    {
     "data": {
      "text/plain": [
       "-88"
      ]
     },
     "execution_count": 2,
     "metadata": {},
     "output_type": "execute_result"
    }
   ],
   "source": [
    "# The randint() Function: whole single integer between the interval()\n",
    "random.randint(-90,90)"
   ]
  },
  {
   "cell_type": "code",
   "execution_count": 3,
   "id": "63dcc171",
   "metadata": {},
   "outputs": [
    {
     "data": {
      "text/plain": [
       "0.11535021895521647"
      ]
     },
     "execution_count": 3,
     "metadata": {},
     "output_type": "execute_result"
    }
   ],
   "source": [
    "# The random() Function : floating-point decimal number between 0 and 1.\n",
    "random.random()"
   ]
  },
  {
   "cell_type": "code",
   "execution_count": 4,
   "id": "0edfbf2f",
   "metadata": {},
   "outputs": [
    {
     "data": {
      "text/plain": [
       "[-32.30187334677133,\n",
       " 60.892096427901535,\n",
       " 32.84952240432124,\n",
       " 35.83048664748071,\n",
       " 7.324184257083261,\n",
       " -17.948509151259415,\n",
       " 8.063176618748017,\n",
       " -5.199648022042264,\n",
       " -29.44912642195196,\n",
       " 39.84513544354433]"
      ]
     },
     "execution_count": 4,
     "metadata": {},
     "output_type": "execute_result"
    }
   ],
   "source": [
    "# Combain both together for our analys: random number = random.randint(-90,89) + random.random()\n",
    "# To generate ten random floating-point decimal latitudes between -90 and 89.\n",
    "x = 1           #Assign the variable x to 1.\n",
    "latitudes = []  #Initialize an empty list, latitudes.\n",
    "while x < 11:   #We create a while loop where we generate a random latitude and add it to the list.\n",
    "    random_lat = random.randint(-90, 89) + random.random()\n",
    "    latitudes.append(random_lat)\n",
    "    x += 1      #After the random latitude is added to the list we add one to the variable \"x\".\n",
    "#The while loop condition is checked again and will continue to run as long as x is less than 11.\n",
    "latitudes"
   ]
  },
  {
   "cell_type": "code",
   "execution_count": 5,
   "id": "b6056777",
   "metadata": {},
   "outputs": [
    {
     "data": {
      "text/plain": [
       "53"
      ]
     },
     "execution_count": 5,
     "metadata": {},
     "output_type": "execute_result"
    }
   ],
   "source": [
    "#The randrange() Function: Returns a whole integer between the interval\n",
    "# where the step is the difference between each number in the sequence\n",
    "random.randrange(-180,180, step=1)"
   ]
  },
  {
   "cell_type": "code",
   "execution_count": 6,
   "id": "2ceddd7a",
   "metadata": {},
   "outputs": [
    {
     "data": {
      "text/plain": [
       "-81.43010059307605"
      ]
     },
     "execution_count": 6,
     "metadata": {},
     "output_type": "execute_result"
    }
   ],
   "source": [
    "# The uniform() Function : generate a floating-point decimal number between two given numbers inside the parentheses.\n",
    "random.uniform(-90, 90)"
   ]
  },
  {
   "cell_type": "code",
   "execution_count": 7,
   "id": "d66faf44",
   "metadata": {},
   "outputs": [],
   "source": [
    "# The NumPy and random Modules\n",
    "# Import the NumPy module(numerical mathematics library that can be used to make arrays or matrices of numbers)\n",
    "import numpy as np"
   ]
  },
  {
   "cell_type": "code",
   "execution_count": 8,
   "id": "33cbfb58",
   "metadata": {},
   "outputs": [
    {
     "data": {
      "text/plain": [
       "-0.22261348630537725"
      ]
     },
     "execution_count": 8,
     "metadata": {},
     "output_type": "execute_result"
    }
   ],
   "source": [
    "np.random.uniform(-90.000,90.000)"
   ]
  },
  {
   "cell_type": "code",
   "execution_count": 9,
   "id": "73cda2d8",
   "metadata": {},
   "outputs": [
    {
     "data": {
      "text/plain": [
       "array([-79.07375523, -70.26231154, -75.58800592,  48.03555288,\n",
       "        36.47353822,  67.62332063,  49.75529451,  21.86363313,\n",
       "        32.77379698,  23.06154452,   5.49466004,   1.15872638,\n",
       "        20.20658499, -86.56543114,  89.0874465 ,  40.96336061,\n",
       "        76.28571044,  27.63609483,  20.92487483,  76.3675374 ,\n",
       "       -81.35994731,  42.90726219, -54.28283935,  86.48736537,\n",
       "        10.95820264, -77.35002496,  26.36933959, -19.37968242,\n",
       "        29.3158781 ,  49.62194444,   8.68461797, -38.77374741,\n",
       "       -12.0382994 ,  14.32934604,  -9.00929945,  65.07304463,\n",
       "       -39.97391574, -50.20975142,  84.38931232, -84.47996723,\n",
       "       -51.34823462, -32.36208975, -44.85811507, -15.85573922,\n",
       "        55.38214712,  69.40722347, -71.20754313,  -7.87551397,\n",
       "        28.81826667,  78.22676454])"
      ]
     },
     "execution_count": 9,
     "metadata": {},
     "output_type": "execute_result"
    }
   ],
   "source": [
    "# Another option is to write the parameters as np.random.uniform(low=-90, high=90) + size \n",
    "# to generate more than one floating-point decimal number.\n",
    "np.random.uniform(-90.000, 90.000, size=50)"
   ]
  },
  {
   "cell_type": "code",
   "execution_count": 10,
   "id": "d3e1b8fb",
   "metadata": {},
   "outputs": [],
   "source": [
    "# Import timeit(To test how long a piece of code or function takes to run)\n",
    "import timeit"
   ]
  },
  {
   "cell_type": "code",
   "execution_count": 11,
   "id": "54ae84e0",
   "metadata": {},
   "outputs": [
    {
     "name": "stdout",
     "output_type": "stream",
     "text": [
      "26.1 µs ± 763 ns per loop (mean ± std. dev. of 7 runs, 10000 loops each)\n"
     ]
    }
   ],
   "source": [
    "# Add %time it command \n",
    "%timeit np.random.uniform(-90.000, 90.000, size=1500)\n",
    "# The output is the amount of time it took to run the code for 7 runs and 1,000 loops per run."
   ]
  },
  {
   "cell_type": "code",
   "execution_count": 12,
   "id": "e70f442c",
   "metadata": {},
   "outputs": [
    {
     "name": "stdout",
     "output_type": "stream",
     "text": [
      "2.54 ms ± 18.2 µs per loop (mean ± std. dev. of 7 runs, 100 loops each)\n"
     ]
    }
   ],
   "source": [
    "# Run the while loop as a function\n",
    "def latitudes(size):\n",
    "    latitudes = []\n",
    "    x = 0\n",
    "    while x < (size):\n",
    "        random_lat = random.randint(-90, 90) + random.random()\n",
    "        latitudes.append(random_lat)\n",
    "        x += 1\n",
    "    return latitudes\n",
    "# Call the function with 1500.\n",
    "%timeit latitudes(1500)"
   ]
  },
  {
   "cell_type": "code",
   "execution_count": null,
   "id": "9889dedd",
   "metadata": {},
   "outputs": [],
   "source": []
  }
 ],
 "metadata": {
  "kernelspec": {
   "display_name": "PythonData",
   "language": "python",
   "name": "pythondata"
  },
  "language_info": {
   "codemirror_mode": {
    "name": "ipython",
    "version": 3
   },
   "file_extension": ".py",
   "mimetype": "text/x-python",
   "name": "python",
   "nbconvert_exporter": "python",
   "pygments_lexer": "ipython3",
   "version": "3.7.13"
  }
 },
 "nbformat": 4,
 "nbformat_minor": 5
}
